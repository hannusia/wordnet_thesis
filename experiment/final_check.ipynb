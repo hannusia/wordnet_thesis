{
 "cells": [
  {
   "cell_type": "code",
   "execution_count": 1,
   "metadata": {},
   "outputs": [],
   "source": [
    "import pandas as pd\n",
    "import json"
   ]
  },
  {
   "cell_type": "code",
   "execution_count": 2,
   "metadata": {},
   "outputs": [
    {
     "data": {
      "text/html": [
       "<div>\n",
       "<style scoped>\n",
       "    .dataframe tbody tr th:only-of-type {\n",
       "        vertical-align: middle;\n",
       "    }\n",
       "\n",
       "    .dataframe tbody tr th {\n",
       "        vertical-align: top;\n",
       "    }\n",
       "\n",
       "    .dataframe thead th {\n",
       "        text-align: right;\n",
       "    }\n",
       "</style>\n",
       "<table border=\"1\" class=\"dataframe\">\n",
       "  <thead>\n",
       "    <tr style=\"text-align: right;\">\n",
       "      <th></th>\n",
       "      <th>id_from</th>\n",
       "      <th>id_to</th>\n",
       "      <th>rel</th>\n",
       "      <th>lemma</th>\n",
       "      <th>id_crop</th>\n",
       "      <th>id</th>\n",
       "      <th>ili</th>\n",
       "      <th>lemma_en</th>\n",
       "      <th>gloss_en</th>\n",
       "      <th>google_lemma</th>\n",
       "      <th>google_gloss</th>\n",
       "      <th>bing_gloss</th>\n",
       "      <th>deepl_gloss</th>\n",
       "    </tr>\n",
       "  </thead>\n",
       "  <tbody>\n",
       "    <tr>\n",
       "      <th>0</th>\n",
       "      <td>omw-en31-oewn-00001740-n</td>\n",
       "      <td>https://uk.wikipedia.org/wiki/%D0%A1%D1%83%D1%...</td>\n",
       "      <td>pwn31_to_uk_wiki</td>\n",
       "      <td>суще</td>\n",
       "      <td>00001740-n</td>\n",
       "      <td>pwn-00001740-n</td>\n",
       "      <td>i35545</td>\n",
       "      <td>entity</td>\n",
       "      <td>that which is perceived or known or inferred t...</td>\n",
       "      <td>сутність</td>\n",
       "      <td>те, що сприймається або відоме або передбачаєт...</td>\n",
       "      <td>те, що сприймається, відомо або виводить, що м...</td>\n",
       "      <td>NaN</td>\n",
       "    </tr>\n",
       "    <tr>\n",
       "      <th>1</th>\n",
       "      <td>omw-en31-oewn-00004475-n</td>\n",
       "      <td>https://uk.wikipedia.org/wiki/%D0%9E%D1%80%D0%...</td>\n",
       "      <td>pwn31_to_uk_wiki</td>\n",
       "      <td>організм</td>\n",
       "      <td>00004475-n</td>\n",
       "      <td>pwn-00004475-n</td>\n",
       "      <td>i35553</td>\n",
       "      <td>organism</td>\n",
       "      <td>a living thing that has (or can develop) the a...</td>\n",
       "      <td>організм</td>\n",
       "      <td>жива істота, яка має (або може розвинути) здат...</td>\n",
       "      <td>жива істота, яка має (або може розвивати) здат...</td>\n",
       "      <td>NaN</td>\n",
       "    </tr>\n",
       "    <tr>\n",
       "      <th>2</th>\n",
       "      <td>omw-en31-oewn-00037727-n</td>\n",
       "      <td>https://uk.wikipedia.org/wiki/%D0%A8%D0%B5%D0%...</td>\n",
       "      <td>pwn31_to_uk_wiki</td>\n",
       "      <td>шедевр</td>\n",
       "      <td>00037727-n</td>\n",
       "      <td>pwn-00037727-n</td>\n",
       "      <td>i35607</td>\n",
       "      <td>masterpiece</td>\n",
       "      <td>an outstanding achievement</td>\n",
       "      <td>шедевр</td>\n",
       "      <td>видатне досягнення</td>\n",
       "      <td>видатне досягнення</td>\n",
       "      <td>NaN</td>\n",
       "    </tr>\n",
       "    <tr>\n",
       "      <th>3</th>\n",
       "      <td>omw-en31-oewn-00035498-n</td>\n",
       "      <td>https://uk.wikipedia.org/wiki/%D0%90%D0%B1%D0%...</td>\n",
       "      <td>pwn31_to_uk_wiki</td>\n",
       "      <td>абдомінопластика</td>\n",
       "      <td>00035498-n</td>\n",
       "      <td>pwn-00035498-n</td>\n",
       "      <td>i35598</td>\n",
       "      <td>abdominoplasty</td>\n",
       "      <td>cosmetic surgery of the abdomen to remove wrin...</td>\n",
       "      <td>абдомінопластика</td>\n",
       "      <td>косметична операція на животі для видалення зм...</td>\n",
       "      <td>косметична операція живота для видалення зморш...</td>\n",
       "      <td>NaN</td>\n",
       "    </tr>\n",
       "    <tr>\n",
       "      <th>4</th>\n",
       "      <td>omw-en31-oewn-00035041-n</td>\n",
       "      <td>https://uk.wikipedia.org/wiki/%D0%9B%D0%B0%D0%...</td>\n",
       "      <td>pwn31_to_uk_wiki</td>\n",
       "      <td>лагідність</td>\n",
       "      <td>00035041-n</td>\n",
       "      <td>pwn-00035041-n</td>\n",
       "      <td>i35597</td>\n",
       "      <td>benignity</td>\n",
       "      <td>a kind act</td>\n",
       "      <td>доброта</td>\n",
       "      <td>добрий вчинок</td>\n",
       "      <td>добрий вчинок</td>\n",
       "      <td>NaN</td>\n",
       "    </tr>\n",
       "  </tbody>\n",
       "</table>\n",
       "</div>"
      ],
      "text/plain": [
       "                    id_from  \\\n",
       "0  omw-en31-oewn-00001740-n   \n",
       "1  omw-en31-oewn-00004475-n   \n",
       "2  omw-en31-oewn-00037727-n   \n",
       "3  omw-en31-oewn-00035498-n   \n",
       "4  omw-en31-oewn-00035041-n   \n",
       "\n",
       "                                               id_to               rel  \\\n",
       "0  https://uk.wikipedia.org/wiki/%D0%A1%D1%83%D1%...  pwn31_to_uk_wiki   \n",
       "1  https://uk.wikipedia.org/wiki/%D0%9E%D1%80%D0%...  pwn31_to_uk_wiki   \n",
       "2  https://uk.wikipedia.org/wiki/%D0%A8%D0%B5%D0%...  pwn31_to_uk_wiki   \n",
       "3  https://uk.wikipedia.org/wiki/%D0%90%D0%B1%D0%...  pwn31_to_uk_wiki   \n",
       "4  https://uk.wikipedia.org/wiki/%D0%9B%D0%B0%D0%...  pwn31_to_uk_wiki   \n",
       "\n",
       "              lemma     id_crop              id     ili        lemma_en  \\\n",
       "0              суще  00001740-n  pwn-00001740-n  i35545          entity   \n",
       "1          організм  00004475-n  pwn-00004475-n  i35553        organism   \n",
       "2            шедевр  00037727-n  pwn-00037727-n  i35607     masterpiece   \n",
       "3  абдомінопластика  00035498-n  pwn-00035498-n  i35598  abdominoplasty   \n",
       "4        лагідність  00035041-n  pwn-00035041-n  i35597       benignity   \n",
       "\n",
       "                                            gloss_en      google_lemma  \\\n",
       "0  that which is perceived or known or inferred t...          сутність   \n",
       "1  a living thing that has (or can develop) the a...          організм   \n",
       "2                         an outstanding achievement            шедевр   \n",
       "3  cosmetic surgery of the abdomen to remove wrin...  абдомінопластика   \n",
       "4                                         a kind act           доброта   \n",
       "\n",
       "                                        google_gloss  \\\n",
       "0  те, що сприймається або відоме або передбачаєт...   \n",
       "1  жива істота, яка має (або може розвинути) здат...   \n",
       "2                                 видатне досягнення   \n",
       "3  косметична операція на животі для видалення зм...   \n",
       "4                                      добрий вчинок   \n",
       "\n",
       "                                          bing_gloss deepl_gloss  \n",
       "0  те, що сприймається, відомо або виводить, що м...         NaN  \n",
       "1  жива істота, яка має (або може розвивати) здат...         NaN  \n",
       "2                                 видатне досягнення         NaN  \n",
       "3  косметична операція живота для видалення зморш...         NaN  \n",
       "4                                      добрий вчинок         NaN  "
      ]
     },
     "execution_count": 2,
     "metadata": {},
     "output_type": "execute_result"
    }
   ],
   "source": [
    "df = pd.read_csv(\"merged/merged_mod.csv\")\n",
    "df.head()"
   ]
  },
  {
   "cell_type": "code",
   "execution_count": 3,
   "metadata": {},
   "outputs": [
    {
     "data": {
      "text/plain": [
       "(29494, 13)"
      ]
     },
     "execution_count": 3,
     "metadata": {},
     "output_type": "execute_result"
    }
   ],
   "source": [
    "df.shape"
   ]
  },
  {
   "cell_type": "code",
   "execution_count": 4,
   "metadata": {},
   "outputs": [],
   "source": [
    "with open(\"wn_merged.json\") as json_file:\n",
    "    json_data = json.load(json_file)"
   ]
  },
  {
   "cell_type": "code",
   "execution_count": 5,
   "metadata": {},
   "outputs": [],
   "source": [
    "ids = set()\n",
    "\n",
    "for obj in json_data:\n",
    "    ids.add(obj[\"id_from\"])\n",
    "\n",
    "    ## also clean generated glosses\n",
    "    obj[\"gloss_uk\"] = obj[\"gloss_uk\"].strip().lower()\n",
    "    if obj[\"gloss_uk\"].endswith(\".\"):\n",
    "        obj[\"gloss_uk\"] = obj[\"gloss_uk\"][:-1]"
   ]
  },
  {
   "cell_type": "code",
   "execution_count": 6,
   "metadata": {},
   "outputs": [
    {
     "data": {
      "text/plain": [
       "True"
      ]
     },
     "execution_count": 6,
     "metadata": {},
     "output_type": "execute_result"
    }
   ],
   "source": [
    "len(ids) == len(df)"
   ]
  },
  {
   "cell_type": "code",
   "execution_count": 7,
   "metadata": {},
   "outputs": [],
   "source": [
    "# df[~df[\"id_from\"].isin(ids)].reset_index(drop=True).to_csv(\"127.csv\")"
   ]
  },
  {
   "cell_type": "code",
   "execution_count": 8,
   "metadata": {},
   "outputs": [],
   "source": [
    "id_order = df[\"id_from\"].to_list()"
   ]
  },
  {
   "cell_type": "code",
   "execution_count": 9,
   "metadata": {},
   "outputs": [],
   "source": [
    "entries = {}\n",
    "for obj in json_data:\n",
    "    entries[obj[\"id_from\"]] = obj"
   ]
  },
  {
   "cell_type": "code",
   "execution_count": 10,
   "metadata": {},
   "outputs": [],
   "source": [
    "sorted_entries = []"
   ]
  },
  {
   "cell_type": "code",
   "execution_count": 11,
   "metadata": {},
   "outputs": [],
   "source": [
    "for i in id_order:\n",
    "    sorted_entries.append(entries[i])"
   ]
  },
  {
   "cell_type": "code",
   "execution_count": 12,
   "metadata": {},
   "outputs": [],
   "source": [
    "with open('wn_with_gloss.json', 'w') as fout:\n",
    "    json.dump(sorted_entries, fout, indent=4, ensure_ascii=False)"
   ]
  }
 ],
 "metadata": {
  "kernelspec": {
   "display_name": "Python 3",
   "language": "python",
   "name": "python3"
  },
  "language_info": {
   "codemirror_mode": {
    "name": "ipython",
    "version": 3
   },
   "file_extension": ".py",
   "mimetype": "text/x-python",
   "name": "python",
   "nbconvert_exporter": "python",
   "pygments_lexer": "ipython3",
   "version": "3.11.8 (main, Feb 12 2024, 14:50:05) [GCC 13.2.1 20230801]"
  },
  "orig_nbformat": 4,
  "vscode": {
   "interpreter": {
    "hash": "767d51c1340bd893661ea55ea3124f6de3c7a262a8b4abca0554b478b1e2ff90"
   }
  }
 },
 "nbformat": 4,
 "nbformat_minor": 2
}
